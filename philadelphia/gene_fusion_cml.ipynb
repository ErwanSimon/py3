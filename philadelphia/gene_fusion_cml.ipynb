{
 "cells": [
  {
   "cell_type": "code",
   "execution_count": 1,
   "source": [
    "import Bio\n",
    "\n",
    "from Bio import SeqIO\n",
    "from Bio.Seq import Seq\n",
    "# from Bio.Alphabet import generic_dna"
   ],
   "outputs": [
    {
     "output_type": "error",
     "ename": "ImportError",
     "evalue": "Bio.Alphabet has been removed from Biopython. In many cases, the alphabet can simply be ignored and removed from scripts. In a few cases, you may need to specify the ``molecule_type`` as an annotation on a SeqRecord for your script to work correctly. Please see https://biopython.org/wiki/Alphabet for more information.",
     "traceback": [
      "\u001b[0;31m---------------------------------------------------------------------------\u001b[0m",
      "\u001b[0;31mImportError\u001b[0m                               Traceback (most recent call last)",
      "\u001b[0;32m<ipython-input-1-c137151bb39e>\u001b[0m in \u001b[0;36m<module>\u001b[0;34m\u001b[0m\n\u001b[1;32m      3\u001b[0m \u001b[0;32mfrom\u001b[0m \u001b[0mBio\u001b[0m \u001b[0;32mimport\u001b[0m \u001b[0mSeqIO\u001b[0m\u001b[0;34m\u001b[0m\u001b[0;34m\u001b[0m\u001b[0m\n\u001b[1;32m      4\u001b[0m \u001b[0;32mfrom\u001b[0m \u001b[0mBio\u001b[0m\u001b[0;34m.\u001b[0m\u001b[0mSeq\u001b[0m \u001b[0;32mimport\u001b[0m \u001b[0mSeq\u001b[0m\u001b[0;34m\u001b[0m\u001b[0;34m\u001b[0m\u001b[0m\n\u001b[0;32m----> 5\u001b[0;31m \u001b[0;32mfrom\u001b[0m \u001b[0mBio\u001b[0m\u001b[0;34m.\u001b[0m\u001b[0mAlphabet\u001b[0m \u001b[0;32mimport\u001b[0m \u001b[0mgeneric_dna\u001b[0m\u001b[0;34m\u001b[0m\u001b[0;34m\u001b[0m\u001b[0m\n\u001b[0m",
      "\u001b[0;32m~/.local/lib/python3.6/site-packages/Bio/Alphabet/__init__.py\u001b[0m in \u001b[0;36m<module>\u001b[0;34m\u001b[0m\n\u001b[1;32m     19\u001b[0m \u001b[0;34m\u001b[0m\u001b[0m\n\u001b[1;32m     20\u001b[0m raise ImportError(\n\u001b[0;32m---> 21\u001b[0;31m     \u001b[0;34m\"Bio.Alphabet has been removed from Biopython. In many cases, the alphabet can simply be ignored and removed from scripts. In a few cases, you may need to specify the ``molecule_type`` as an annotation on a SeqRecord for your script to work correctly. Please see https://biopython.org/wiki/Alphabet for more information.\"\u001b[0m\u001b[0;34m\u001b[0m\u001b[0;34m\u001b[0m\u001b[0m\n\u001b[0m\u001b[1;32m     22\u001b[0m )\n",
      "\u001b[0;31mImportError\u001b[0m: Bio.Alphabet has been removed from Biopython. In many cases, the alphabet can simply be ignored and removed from scripts. In a few cases, you may need to specify the ``molecule_type`` as an annotation on a SeqRecord for your script to work correctly. Please see https://biopython.org/wiki/Alphabet for more information."
     ]
    }
   ],
   "metadata": {}
  },
  {
   "cell_type": "markdown",
   "source": [
    "on importe la sequence mystere avec les outils en ligne (elle est stokée sur le serveur local \"Jupyter\")"
   ],
   "metadata": {}
  },
  {
   "cell_type": "code",
   "execution_count": 2,
   "source": [
    "mysterious_sequence = SeqIO.read(open('KU812_ABL1-BCR.fasta'),\n",
    "'fasta')\n",
    "#,alphabet=generic_dna).seq"
   ],
   "outputs": [],
   "metadata": {}
  },
  {
   "cell_type": "code",
   "execution_count": 3,
   "source": [
    "print(mysterious_sequence)"
   ],
   "outputs": [
    {
     "output_type": "stream",
     "name": "stdout",
     "text": [
      "ATTACAGGCAGGAGCCACTGTGCCCGGCCTGACCTCATATTTGAATACCGAGTTTTAGTTCTGGAGGAGCTGCAGGTTTATTTGGGGAGGAGGGTTGCAGCGGCCGAGCCAGGGTCTCCACCCAGGAAGGACTAATCGGGCAGGGTGTGGGGAAACAAAGAGGTTGTTCAGATGACCAC\n"
     ]
    }
   ],
   "metadata": {}
  },
  {
   "cell_type": "code",
   "execution_count": 4,
   "source": [
    "from Bio.Blast import NCBIWWW\n",
    "\n",
    "from Bio import SeqIO \n",
    "seq_record = next(SeqIO.parse(open('KU812_ABL1-BCR.fasta'),'fasta')) \n",
    "seq_record.id "
   ],
   "outputs": [
    {
     "output_type": "execute_result",
     "data": {
      "text/plain": [
       "'chr9:'"
      ]
     },
     "metadata": {},
     "execution_count": 4
    }
   ],
   "metadata": {}
  },
  {
   "cell_type": "code",
   "execution_count": 5,
   "source": [
    "seq_record.seq"
   ],
   "outputs": [
    {
     "output_type": "execute_result",
     "data": {
      "text/plain": [
       "Seq('ATTACAGGCAGGAGCCACTGTGCCCGGCCTGACCTCATATTTGAATACCGAGTT...CAC', SingleLetterAlphabet())"
      ]
     },
     "metadata": {},
     "execution_count": 5
    }
   ],
   "metadata": {}
  },
  {
   "cell_type": "code",
   "execution_count": 5,
   "source": [
    "print(seq_record)"
   ],
   "outputs": [
    {
     "output_type": "stream",
     "name": "stdout",
     "text": [
      "ID: chr9:\n",
      "Name: chr9:\n",
      "Description:  chr9: 133,643,072 - chr 22:23,632,613\n",
      "Number of features: 0\n",
      "Seq('ATTACAGGCAGGAGCCACTGTGCCCGGCCTGACCTCATATTTGAATACCGAGTT...CAC', SingleLetterAlphabet())\n"
     ]
    }
   ],
   "metadata": {}
  },
  {
   "cell_type": "code",
   "execution_count": 7,
   "source": [
    "result_handle = NCBIWWW.qblast(\"blastn\", \"nt\", seq_record.seq)"
   ],
   "outputs": [],
   "metadata": {}
  },
  {
   "cell_type": "code",
   "execution_count": 8,
   "source": [
    "print(result_handle)"
   ],
   "outputs": [
    {
     "output_type": "stream",
     "name": "stdout",
     "text": [
      "<_io.StringIO object at 0x00000129FF4BB0D8>\n"
     ]
    }
   ],
   "metadata": {}
  },
  {
   "cell_type": "code",
   "execution_count": 9,
   "source": [
    "with open('results.xml', 'w') as save_file: \n",
    "    blast_results = result_handle.read() \n",
    "    save_file.write(blast_results)"
   ],
   "outputs": [],
   "metadata": {}
  },
  {
   "cell_type": "markdown",
   "source": [
    "parsing BLAST Results"
   ],
   "metadata": {}
  },
  {
   "cell_type": "code",
   "execution_count": 7,
   "source": [
    "from Bio.Blast import NCBIXML"
   ],
   "outputs": [],
   "metadata": {}
  },
  {
   "cell_type": "code",
   "execution_count": 8,
   "source": [
    "E_VALUE_THRESH = 1e-20 \n",
    "for record in NCBIXML.parse(open(\"results.xml\")): \n",
    "    if record.alignments: \n",
    "       print(\"\\n\") \n",
    "       print(\"query: %s\" % record.query[:100]) \n",
    "       for align in record.alignments: \n",
    "          for hsp in align.hsps: \n",
    "             if hsp.expect < E_VALUE_THRESH: \n",
    "                print(\"match: %s \" % align.title[:100])"
   ],
   "outputs": [
    {
     "output_type": "stream",
     "name": "stdout",
     "text": [
      "\n",
      "\n",
      "query: No definition line\n",
      "match: gi|402537364|gb|JQ425239.1| Homo sapiens isolate 53 chromosome der(22) BCR/ABL1 fusion breakpoint re \n",
      "match: gi|308026376|emb|FN869137.1| Homo sapiens t(9;22)(q34,q11) reciprocal chromosomal translocation brea \n",
      "match: gi|308026186|emb|FN820262.1| Homo sapiens t(9;22)(q34,q11) chromosomal translocation breakpoint, pat \n",
      "match: gi|308026169|emb|FN820245.1| Homo sapiens t(9;22)(q34,q11) chromosomal translocation breakpoint, pat \n",
      "match: gi|34535903|dbj|AK128501.1| Homo sapiens cDNA FLJ46653 fis, clone TRACH3005173 \n",
      "match: gi|5103006|dbj|AP000343.1| Homo sapiens genomic DNA, chromosome 22q11.2, clone KB282B12 \n",
      "match: gi|1607240199|gb|AC279138.1| Pongo abelii chromosome 22 clone CH276-182C18, complete sequence \n",
      "match: gi|1548994297|gb|CP034501.1| Eukaryotic synthetic construct chromosome 22 >gi|1549098833|gb|CP034526 \n",
      "match: gi|1543376889|ref|NG_009244.2| Homo sapiens BCR activator of RhoGEF and GTPase (BCR), RefSeqGene on  \n",
      "match: gi|1187955042|ref|NG_050673.1| Homo sapiens BCR-ABL major-breakpoint cluster region (LOC107963955) o \n",
      "match: gi|308026185|emb|FN820261.1| Homo sapiens t(9;22)(q34,q11) chromosomal translocation breakpoint, pat \n",
      "match: gi|308026183|emb|FN820259.1| Homo sapiens t(9;22)(q34,q11) chromosomal translocation breakpoint, pat \n",
      "match: gi|308026182|emb|FN820258.1| Homo sapiens t(9;22)(q34,q11) chromosomal translocation breakpoint, pat \n",
      "match: gi|160333991|gb|AC138021.34| Pan troglodytes clone rp43-159j5, complete sequence \n",
      "match: gi|291871|gb|L02935.1|HUMBCRE Human major breakpoint cluster region (BCR) gene, exons 1-3 and repeat \n",
      "match: gi|487344|gb|U07000.1|HSU07000 Human breakpoint cluster region (BCR) gene, complete cds \n",
      "match: gi|308026145|emb|FN820221.1| Homo sapiens t(9;22)(q34,q11) chromosomal translocation breakpoint, pat \n",
      "match: gi|308026141|emb|FN820217.1| Homo sapiens t(9;22)(q34,q11) chromosomal translocation breakpoint, pat \n",
      "match: gi|431306|gb|M55395.1|HUMBCRX Human breakpoint cluster region (BCR) gene, exons 2-3 \n",
      "match: gi|1187955046|ref|NG_050744.1| Homo sapiens ABL breakpoint recombination region (LOC107980440) on ch \n",
      "match: gi|1049010606|gb|AH005332.2| Homo sapiens proto-oncogene tyrosine-protein kinase (ABL) gene, complet \n",
      "match: gi|237820638|ref|NG_012034.1| Homo sapiens ABL proto-oncogene 1, non-receptor tyrosine kinase (ABL1) \n",
      "match: gi|71648777|gb|DQ145721.1| Homo sapiens v-abl Abelson murine leukemia viral oncogene homolog 1 (ABL1 \n",
      "match: gi|13274746|emb|AL359092.14| Human DNA sequence from clone RP11-57C19 on chromosome 9, complete sequ \n",
      "match: gi|402537378|gb|JQ425253.1| Homo sapiens chromosome der(22) BCR/ABL1 fusion breakpoint region \n",
      "match: gi|112984701|gb|AC190188.1| Pan troglodytes BAC clone CH251-584O14 from chromosome 9, complete seque \n",
      "match: gi|81295545|gb|AC148401.31| Papio anubis clone rp41-24b4, complete sequence \n",
      "match: gi|402537293|gb|JQ425168.1| Homo sapiens isolate 1 chromosome der(9) BCR/ABL1 fusion breakpoint regi \n",
      "match: gi|402537343|gb|JQ425218.1| Homo sapiens isolate 37 chromosome der(9) BCR/ABL1 fusion breakpoint reg \n",
      "match: gi|308026174|emb|FN820250.1| Homo sapiens t(9;22)(q34,q11) chromosomal translocation breakpoint, pat \n"
     ]
    }
   ],
   "metadata": {}
  },
  {
   "cell_type": "code",
   "execution_count": null,
   "source": [],
   "outputs": [],
   "metadata": {}
  }
 ],
 "metadata": {
  "kernelspec": {
   "name": "python3",
   "display_name": "Python 3.6.9 64-bit"
  },
  "language_info": {
   "codemirror_mode": {
    "name": "ipython",
    "version": 3
   },
   "file_extension": ".py",
   "mimetype": "text/x-python",
   "name": "python",
   "nbconvert_exporter": "python",
   "pygments_lexer": "ipython3",
   "version": "3.6.9"
  },
  "interpreter": {
   "hash": "31f2aee4e71d21fbe5cf8b01ff0e069b9275f58929596ceb00d14d90e3e16cd6"
  }
 },
 "nbformat": 4,
 "nbformat_minor": 4
}